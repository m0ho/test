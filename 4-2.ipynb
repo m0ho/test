{
 "cells": [
  {
   "cell_type": "code",
   "execution_count": 16,
   "metadata": {},
   "outputs": [
    {
     "name": "stdout",
     "output_type": "stream",
     "text": [
      "0.20000000000000018\n",
      "0.3068528194400538 -1.6931471805599432\n"
     ]
    }
   ],
   "source": [
    "from math import exp\n",
    "import numpy as np\n",
    "w=1; b = -1; \n",
    "rate = 0.5\n",
    "xgt=np.array([1])\n",
    "ygt = np.array([0.2])\n",
    "y = 1/(1+exp(-(w*xgt+b)));w = w-rate*sum((y-ygt)*xgt)/3;b = b-rate*sum(y-ygt)/3\n",
    "for i in range(3000):\n",
    "    y = 1/(1+exp(-(w*xgt+b)));w = w-rate*sum((y-ygt)*xgt)/3;b = b-rate*sum(y-ygt)/3\n",
    "print(y)\n",
    "print(w,b)"
   ]
  }
 ],
 "metadata": {
  "kernelspec": {
   "display_name": "Python 3",
   "language": "python",
   "name": "python3"
  },
  "language_info": {
   "codemirror_mode": {
    "name": "ipython",
    "version": 3
   },
   "file_extension": ".py",
   "mimetype": "text/x-python",
   "name": "python",
   "nbconvert_exporter": "python",
   "pygments_lexer": "ipython3",
   "version": "3.10.6"
  }
 },
 "nbformat": 4,
 "nbformat_minor": 2
}
