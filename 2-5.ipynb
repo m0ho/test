{
 "cells": [
  {
   "cell_type": "code",
   "execution_count": 2,
   "metadata": {},
   "outputs": [
    {
     "name": "stdout",
     "output_type": "stream",
     "text": [
      "104*a - 56\n"
     ]
    },
    {
     "data": {
      "text/plain": [
       "[7/13]"
      ]
     },
     "execution_count": 2,
     "metadata": {},
     "output_type": "execute_result"
    }
   ],
   "source": [
    "from sympy import symbols, diff, solve\n",
    "\n",
    "a = symbols('a')\n",
    "x1, y1 = 4, 1\n",
    "x2, y2 = 6, 4\n",
    "\n",
    "f_a = (y1 - a*x1)**2 + (y2 - a*x2)**2\n",
    "\n",
    "f_prime = diff(f_a, a)\n",
    "print(f_prime)\n",
    "optimal_a = solve(f_prime, a)\n",
    "optimal_a"
   ]
  }
 ],
 "metadata": {
  "kernelspec": {
   "display_name": "Python 3",
   "language": "python",
   "name": "python3"
  },
  "language_info": {
   "codemirror_mode": {
    "name": "ipython",
    "version": 3
   },
   "file_extension": ".py",
   "mimetype": "text/x-python",
   "name": "python",
   "nbconvert_exporter": "python",
   "pygments_lexer": "ipython3",
   "version": "3.10.6"
  }
 },
 "nbformat": 4,
 "nbformat_minor": 2
}
