{
 "cells": [
  {
   "cell_type": "code",
   "execution_count": 1,
   "metadata": {},
   "outputs": [
    {
     "name": "stdout",
     "output_type": "stream",
     "text": [
      "{h: -3*(2*b - 5)/28, k: 3*(2*b**2 + 4*b + 9)/784}\n",
      "{m: -1.00000000000000, n: 3.50000000000000}\n",
      "0.750000000000000\n"
     ]
    }
   ],
   "source": [
    "\t\n",
    "import sympy as sp\n",
    "\n",
    "a, b, h, k, n, m = sp.symbols('a b h k n m')\n",
    "\n",
    "result1 = sp.solve(((1 - 4*a-b)**2 + (4 - 6*a - b)**2 + (1 - 2*a - b)**2)/(4*4 + 6*6 + 2*2 )  - ((a - h)**2 + k)  , [h, k])\n",
    "\n",
    "print(result1)\n",
    "\n",
    "result2 = sp.solve((3*(2*b**2 + 4*b + 9)/784)/(6/784)-((b - m)**2 + n) ,[m,n])\n",
    "print(result2)\n",
    "\n",
    "result3 = -3*(2*result2[m] - 5)/28\n",
    "print(result3)"
   ]
  }
 ],
 "metadata": {
  "kernelspec": {
   "display_name": "Python 3",
   "language": "python",
   "name": "python3"
  },
  "language_info": {
   "codemirror_mode": {
    "name": "ipython",
    "version": 3
   },
   "file_extension": ".py",
   "mimetype": "text/x-python",
   "name": "python",
   "nbconvert_exporter": "python",
   "pygments_lexer": "ipython3",
   "version": "3.10.6"
  }
 },
 "nbformat": 4,
 "nbformat_minor": 2
}
