{
 "cells": [
  {
   "cell_type": "code",
   "execution_count": 3,
   "metadata": {},
   "outputs": [
    {
     "name": "stdout",
     "output_type": "stream",
     "text": [
      "0.5384491555675378\n"
     ]
    }
   ],
   "source": [
    "(x1, y1) = (4, 1)\n",
    "(x2, y2) = (6, 4)\n",
    "\n",
    "a = 0\n",
    "\n",
    "for i in range(0, 200):\n",
    "    a = a + 0.001*(y1-a*x1)*x1 + 0.001*(y2-a*x2)*x2\n",
    "\n",
    "print(a)"
   ]
  }
 ],
 "metadata": {
  "kernelspec": {
   "display_name": "Python 3",
   "language": "python",
   "name": "python3"
  },
  "language_info": {
   "codemirror_mode": {
    "name": "ipython",
    "version": 3
   },
   "file_extension": ".py",
   "mimetype": "text/x-python",
   "name": "python",
   "nbconvert_exporter": "python",
   "pygments_lexer": "ipython3",
   "version": "3.10.6"
  }
 },
 "nbformat": 4,
 "nbformat_minor": 2
}
