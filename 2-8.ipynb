{
 "cells": [
  {
   "cell_type": "code",
   "execution_count": 4,
   "metadata": {},
   "outputs": [
    {
     "name": "stdout",
     "output_type": "stream",
     "text": [
      "112*a + 24*b - 60\n",
      "24*a + 6*b - 12\n"
     ]
    },
    {
     "data": {
      "text/plain": [
       "{a: 3/4, b: -1}"
      ]
     },
     "execution_count": 4,
     "metadata": {},
     "output_type": "execute_result"
    }
   ],
   "source": [
    "from sympy import symbols, diff, solve\n",
    "\n",
    "a, b = symbols('a b')\n",
    "x1, y1 = 4, 1\n",
    "x2, y2 = 6, 4\n",
    "x3, y3 = 2, 1\n",
    "\n",
    "f =  (y1 - (a*x1 + b))**2 + (y2 - (a*x2 + b))**2 + (y3 - (a*x3 + b))**2\n",
    "f_a = diff(f, a)\n",
    "f_b = diff(f,b)\n",
    "print(f_a)\n",
    "print(f_b)\n",
    "\n",
    "solve([f_a,f_b],[a,b])"
   ]
  }
 ],
 "metadata": {
  "kernelspec": {
   "display_name": "Python 3",
   "language": "python",
   "name": "python3"
  },
  "language_info": {
   "codemirror_mode": {
    "name": "ipython",
    "version": 3
   },
   "file_extension": ".py",
   "mimetype": "text/x-python",
   "name": "python",
   "nbconvert_exporter": "python",
   "pygments_lexer": "ipython3",
   "version": "3.10.6"
  }
 },
 "nbformat": 4,
 "nbformat_minor": 2
}
