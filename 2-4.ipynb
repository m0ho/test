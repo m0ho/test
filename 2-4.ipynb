{
 "cells": [
  {
   "cell_type": "code",
   "execution_count": 9,
   "metadata": {},
   "outputs": [
    {
     "name": "stdout",
     "output_type": "stream",
     "text": [
      "{h: 7/13, k: 25/676}\n"
     ]
    }
   ],
   "source": [
    "import sympy as sp\n",
    "a, h, k = sp.symbols('a h k')\n",
    "result = sp.solve(((1-4*a)**2 + (4-6*a)**2)/(4*4 + 6*6) - ((a - h)**2 + k), [h, k])\n",
    "print(result)"
   ]
  }
 ],
 "metadata": {
  "kernelspec": {
   "display_name": "Python 3",
   "language": "python",
   "name": "python3"
  },
  "language_info": {
   "codemirror_mode": {
    "name": "ipython",
    "version": 3
   },
   "file_extension": ".py",
   "mimetype": "text/x-python",
   "name": "python",
   "nbconvert_exporter": "python",
   "pygments_lexer": "ipython3",
   "version": "3.10.6"
  }
 },
 "nbformat": 4,
 "nbformat_minor": 2
}
