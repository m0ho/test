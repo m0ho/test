{
 "cells": [
  {
   "cell_type": "code",
   "execution_count": 4,
   "metadata": {},
   "outputs": [
    {
     "data": {
      "text/plain": [
       "(-0.5, 4.833333333333333)"
      ]
     },
     "execution_count": 4,
     "metadata": {},
     "output_type": "execute_result"
    }
   ],
   "source": [
    "import numpy as np\n",
    "w=1; b = -1; \n",
    "rate = 0.04\n",
    "xgt=np.array([4,6,2])\n",
    "ygt = np.array([1,4,1])\n",
    "y = w*xgt+b\n",
    "y= w*xgt+b;w = w-rate*sum((y-ygt)*xgt)/3;b = b-rate*sum(y-ygt)/3\n",
    "for i in range(1000):\n",
    "    y= w*xgt+b;w = w-rate*sum((y-ygt)*xgt)/3;b = b-rate*sum(y-ygt)/3\n",
    "print(w,b)"
   ]
  },
  {
   "cell_type": "markdown",
   "metadata": {},
   "source": [
    "\n"
   ]
  }
 ],
 "metadata": {
  "kernelspec": {
   "display_name": "Python 3",
   "language": "python",
   "name": "python3"
  },
  "language_info": {
   "codemirror_mode": {
    "name": "ipython",
    "version": 3
   },
   "file_extension": ".py",
   "mimetype": "text/x-python",
   "name": "python",
   "nbconvert_exporter": "python",
   "pygments_lexer": "ipython3",
   "version": "3.10.6"
  }
 },
 "nbformat": 4,
 "nbformat_minor": 2
}
